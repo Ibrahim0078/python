{
 "cells": [
  {
   "cell_type": "code",
   "execution_count": 33,
   "id": "bdadca9b-bd9a-48f9-99f8-18d0c875e3bc",
   "metadata": {},
   "outputs": [
    {
     "name": "stdin",
     "output_type": "stream",
     "text": [
      "Enter you Age:  51\n",
      "Enter your monthly income:  600000\n",
      "Enter your credit Score:  750\n"
     ]
    },
    {
     "name": "stdout",
     "output_type": "stream",
     "text": [
      "Pay the collateral\n"
     ]
    },
    {
     "name": "stdin",
     "output_type": "stream",
     "text": [
      "Is the colletral paid? YES/NO yes\n"
     ]
    },
    {
     "name": "stdout",
     "output_type": "stream",
     "text": [
      "You must pay the colletral\n"
     ]
    }
   ],
   "source": [
    "age = input(\"Enter you Age: \")\n",
    "income = input(\"Enter your monthly income: \")\n",
    "creditScore = input(\"Enter your credit Score: \")\n",
    "int_age = int(age)\n",
    "int_income = int(income)\n",
    "int_creditScore = int(creditScore)\n",
    "if int_age >= 21 and int_age <=60:\n",
    "    if int_income >= 50000:\n",
    "        if int_creditScore >= 700:\n",
    "            if int_age > 50:\n",
    "                print (\"Pay the collateral\")\n",
    "                isCollateralPaid = input (\"Is the colletral paid? YES/NO\")\n",
    "                if isCollateralPaid == \"YES\" or isCollateralPaid ==\"yes\":\n",
    "                    print (\"Your loan is Approved\")\n",
    "                else:\n",
    "                    print (\"You must pay the colletral\")\n",
    "            if int_age < 50:\n",
    "                    print (\"Your loan is Approved\")\n",
    "        else:\n",
    "            print (\"You do not qualify for the loan because your credit score is low\")\n",
    "    else:\n",
    "        print (\"You do not qualify for the loan because your income is low\")\n",
    "else:\n",
    "    print (\"You do not qualify for the loan because your age dose not meet our requirements\")"
   ]
  },
  {
   "cell_type": "code",
   "execution_count": 29,
   "id": "b45fa954-22a2-48c9-b41f-bfeff8a5efe4",
   "metadata": {},
   "outputs": [
    {
     "name": "stdin",
     "output_type": "stream",
     "text": [
      "Enter your previous marks 81\n",
      "Enter your entry test score 70\n"
     ]
    },
    {
     "name": "stdout",
     "output_type": "stream",
     "text": [
      "You are not eligible for the admission\n",
      "You got the Admission\n"
     ]
    }
   ],
   "source": [
    "previousMarks = input(\"Enter your previous marks\")\n",
    "marks = input(\"Enter your marks:\")\n",
    "entryTestScore = input(\"Enter your entry test score\")\n",
    "int_previousMarks = int(previousMarks)\n",
    "int_entryTestScore = int (entryTestScore)\n",
    "int_marks = int(marks)\n",
    "if int_previousMarks >= 70:\n",
    "    if int_marks >= 70\n",
    "        if int_previousMarks >= 70 int_previousMarks <= 79:\n",
    "            if int_entryTestScore >= 60 and int_entryTestScore <= 69:\n",
    "                print(\"You have to appear for the interview\")\n",
    "            else:\n",
    "                print(\"You are not eligible for the admission\")\n",
    "        else:\n",
    "            if int_entryTestScore >= 70 and int_entryTestScore <=79:\n",
    "                print(\"You got the Admission\")\n",
    "            else:\n",
    "                print(\"You are not eligible for the admission\")\n",
    "    else:\n",
    "        print(\"You are not eligible for the admission\")\n",
    "else:\n",
    "    print(\"You are not eligible for the admission\")"
   ]
  },
  {
   "cell_type": "code",
   "execution_count": 37,
   "id": "eec22546-82f1-4b31-ad7f-bbd3c099c691",
   "metadata": {},
   "outputs": [
    {
     "name": "stdin",
     "output_type": "stream",
     "text": [
      "Enter the country of delivery: pakistan\n",
      "Enter the order's value: 500000\n"
     ]
    },
    {
     "name": "stdout",
     "output_type": "stream",
     "text": [
      "Your order qualifies for free shiping your total cost is 500000\n"
     ]
    }
   ],
   "source": [
    "country = input(\"Enter the country of delivery:\")\n",
    "valueOfOrder = input(\"Enter the order's value:\")\n",
    "int_valueOfOrder = int(valueOfOrder)\n",
    "if country == \"Pakistan\" or country == \"pakistan\":\n",
    "    if int_valueOfOrder >= 10000:\n",
    "        print(\"Your order qualifies for free shiping your total cost is \" + valueOfOrder)\n",
    "    else: \n",
    "        extraValueOFOrder = ValueOfOrder + 300\n",
    "        int_extraValueOFOrder = int(extraValueOFOrder)\n",
    "        print(\"You will be charged 300 for delivery your total price is \" + extraValueOFOrder)\n",
    "else:\n",
    "    print(\"International shipping is not available\")"
   ]
  },
  {
   "cell_type": "code",
   "execution_count": 42,
   "id": "b1af0a1b-c875-4fdb-b557-6ef6084088bb",
   "metadata": {},
   "outputs": [
    {
     "name": "stdin",
     "output_type": "stream",
     "text": [
      "How many years you have worked: 2\n",
      "Enter your salary: 400000\n"
     ]
    },
    {
     "name": "stdout",
     "output_type": "stream",
     "text": [
      "Sadly you will not get bouns this year\n"
     ]
    }
   ],
   "source": [
    "yearsOfService = input (\"How many years you have worked:\")\n",
    "int_yearsOfService = int(yearsOfService)\n",
    "salary = input (\"Enter your salary:\")\n",
    "int_salary = int (salary)\n",
    "if int_yearsOfService >= 10:\n",
    "    print(\"Congratulations you are given 20% bonus\")\n",
    "if int_yearsOfService >= 5 and int_yearsOfService <= 9:\n",
    "    print(\"Congratulations you are given 10% bonus\")\n",
    "if int_yearsOfService < 5 and int_salary < 30000:\n",
    "    print(\"Congratulations you are given 5% bonus\")\n",
    "else:\n",
    "    print(\"Sadly you will not get bouns this year\")"
   ]
  },
  {
   "cell_type": "code",
   "execution_count": 47,
   "id": "3ec59b0c-6d9c-4a46-b813-49e82a1af634",
   "metadata": {},
   "outputs": [
    {
     "name": "stdin",
     "output_type": "stream",
     "text": [
      "Enter your age: 60\n"
     ]
    },
    {
     "name": "stdout",
     "output_type": "stream",
     "text": [
      "Take them to immediate treatment\n"
     ]
    }
   ],
   "source": [
    "age = input (\"Enter your age:\")\n",
    "int_age = int(age)\n",
    "if int_age >= 60:\n",
    "    print (\"Take them to immediate treatment\")\n",
    "else:\n",
    "    condition = input (\"Is patient condition critical? Yes/No:\")\n",
    "    if condition == \"Yes\" or condition == \"yes\":\n",
    "        print (\"Take them to immediate treatment\")\n",
    "    else:\n",
    "        prior = input (\"Does paient have prior appointment? Yes/No:\")\n",
    "        if prior == \"Yes\" or prior == \"yes\":\n",
    "            print (\"You will be treated after priority case\")\n",
    "        else:\n",
    "            print (\"Wait in the general queue\")"
   ]
  },
  {
   "cell_type": "code",
   "execution_count": 52,
   "id": "3efaad3f-4a10-4929-8f26-fbea49abdfae",
   "metadata": {},
   "outputs": [
    {
     "name": "stdin",
     "output_type": "stream",
     "text": [
      "Enter your average marks: 8\n"
     ]
    },
    {
     "name": "stdout",
     "output_type": "stream",
     "text": [
      "The student is failed :(\n"
     ]
    }
   ],
   "source": [
    "average = input (\"Enter your average marks:\")\n",
    "int_average = int(average)\n",
    "if int_average < 40:\n",
    "    print (\"The student is failed :(\")\n",
    "else:\n",
    "    if int_average >= 60:\n",
    "        print (\"Student is passed with first division\")\n",
    "    if int_average >= 50 and int_average <= 59:\n",
    "        print (\"Student is passed with second division\")\n",
    "    if int_average >= 40 and int_average <= 49:\n",
    "        print (\"Student id passed with third division\")"
   ]
  },
  {
   "cell_type": "code",
   "execution_count": 53,
   "id": "aaacb45b-8a7f-40c8-b84d-ab51fe1a67fa",
   "metadata": {},
   "outputs": [
    {
     "name": "stdin",
     "output_type": "stream",
     "text": [
      "Enter the temperature: 20\n"
     ]
    },
    {
     "name": "stdout",
     "output_type": "stream",
     "text": [
      "Carry an umbrella along with a light sweater\n"
     ]
    }
   ],
   "source": [
    "temperature = input (\"Enter the temperature:\")\n",
    "int_temperature = int(temperature)\n",
    "if int_temperature < 10:\n",
    "    print (\"Wear Heavy Jacket\")\n",
    "if int_temperature >= 10 and int_temperature <= 25:\n",
    "    print (\"Carry an umbrella along with a light sweater\")\n",
    "if int_temperature >= 25 and int_temperature <= 35:\n",
    "    print (\"go for an outing\")\n",
    "if int_temperature > 35:\n",
    "    print (\"Stay indoors\")"
   ]
  },
  {
   "cell_type": "code",
   "execution_count": 61,
   "id": "132fa154-6485-4fed-a016-b40730d9a33b",
   "metadata": {},
   "outputs": [
    {
     "name": "stdin",
     "output_type": "stream",
     "text": [
      "Enter the bank balance: 1\n"
     ]
    },
    {
     "name": "stdout",
     "output_type": "stream",
     "text": [
      "The account type is labeled as basic\n"
     ]
    }
   ],
   "source": [
    "balance = input(\"Enter the bank balance:\")\n",
    "int_balance = int(balance)\n",
    "if int_balance >= 10000 and int_balance <= 99999:\n",
    "    print(\"The account is labeled as Silver\")\n",
    "else:\n",
    "    if int_balance >= 100000 and int_balance <= 999999:\n",
    "        print(\"The account is labeled as Gold\")\n",
    "    else:\n",
    "        if int_balance >= 1000000:\n",
    "            print(\"The account is labeled as Premium\")\n",
    "        else:\n",
    "            print(\"The account type is labeled as basic\")"
   ]
  },
  {
   "cell_type": "code",
   "execution_count": 68,
   "id": "6cbec567-70c4-4621-835b-581f11a2cf0d",
   "metadata": {},
   "outputs": [
    {
     "name": "stdin",
     "output_type": "stream",
     "text": [
      "Enter your age: 25\n"
     ]
    },
    {
     "name": "stdout",
     "output_type": "stream",
     "text": [
      "Adult price is applied\n"
     ]
    },
    {
     "name": "stdin",
     "output_type": "stream",
     "text": [
      "is the time after 10pm? Yes/No: yes\n"
     ]
    },
    {
     "name": "stdout",
     "output_type": "stream",
     "text": [
      "10% discount is applied\n"
     ]
    }
   ],
   "source": [
    "age = input(\"Enter your age:\")\n",
    "int_age = int(age)\n",
    "if int_age < 12:\n",
    "    print(\"Child ticket price is applied\")\n",
    "if int_age >= 12 and int_age < 60:\n",
    "    print(\"Adult price is applied\")\n",
    "if int_age >= 60:\n",
    "    print(\"Discounted senior price is applied\")\n",
    "time = input(\"is the time after 10pm? Yes/No:\")\n",
    "if time == \"Yes\" or time == \"yes\":\n",
    "    print(\"10% discount is applied\")    "
   ]
  },
  {
   "cell_type": "code",
   "execution_count": 76,
   "id": "82f9b58e-6fad-4901-86a4-100ff903dae3",
   "metadata": {},
   "outputs": [
    {
     "name": "stdin",
     "output_type": "stream",
     "text": [
      "Enter your score: 5\n",
      "Enter income: 50000\n"
     ]
    },
    {
     "name": "stdout",
     "output_type": "stream",
     "text": [
      "No scholership is granted\n"
     ]
    }
   ],
   "source": [
    "score = input(\"Enter your score:\")\n",
    "int_score = int(score)\n",
    "income = input(\"Enter income:\")\n",
    "int_income = int(income)\n",
    "if int_score >= 85:\n",
    "    if int_income <= 50000:\n",
    "        print (\"A full scholership is granted\")\n",
    "    else:\n",
    "        print (\"Half scholership is granted\")\n",
    "if int_score >= 70 and int_score < 85:\n",
    "    if int_income <= 50000:\n",
    "        print (\"A partial scholership is granted\")\n",
    "else:\n",
    "    print (\"No scholership is granted\")"
   ]
  },
  {
   "cell_type": "code",
   "execution_count": 4,
   "id": "90692b7d-95b1-4958-8793-b5463c868cc9",
   "metadata": {},
   "outputs": [
    {
     "name": "stdin",
     "output_type": "stream",
     "text": [
      "Enter the total bill: 4000\n",
      "Is the bill paid with Card Yes/No: yes\n"
     ]
    },
    {
     "name": "stdout",
     "output_type": "stream",
     "text": [
      "The total bill is: 3420.0\n"
     ]
    }
   ],
   "source": [
    "totalBill = int(input(\"Enter the total bill:\"))\n",
    "discount = 1\n",
    "if totalBill >= 5000:\n",
    "    discount = totalBill * 0.20\n",
    "    totalBill = totalBill - discount\n",
    "if totalBill >= 3000:\n",
    "    discount = totalBill * 0.10\n",
    "    totalBill = totalBill - discount\n",
    "if totalBill < 3000 :\n",
    "    discount = totalBill * 0.20\n",
    "    totalBill = totalBill - discount\n",
    "isCardPayment = input(\"Is the bill paid with Card Yes/No:\")\n",
    "if isCardPayment == \"Yes\" or isCardPayment == \"yes\":\n",
    "    discount = totalBill * 0.05\n",
    "    totalBill = totalBill - discount\n",
    "print (\"The total bill is:\", totalBill)"
   ]
  },
  {
   "cell_type": "code",
   "execution_count": 12,
   "id": "0ce1279a-4c47-4fba-928a-6bec1cce160e",
   "metadata": {},
   "outputs": [
    {
     "name": "stdin",
     "output_type": "stream",
     "text": [
      "Enter your age: 5\n"
     ]
    },
    {
     "name": "stdout",
     "output_type": "stream",
     "text": [
      "High Premium is charged to the client\n"
     ]
    }
   ],
   "source": [
    "age = int(input(\"Enter your age:\"))\n",
    "if age <= 25:\n",
    "    print (\"High Premium is charged to the client\")\n",
    "if age > 25 and age < 60:\n",
    "    drivingExperiance = int(input(\"Enter yoour years of driving experince:\"))\n",
    "    if drivingExperiance >= 5:\n",
    "        print (\"Normal Premium is charged to the client\")\n",
    "    else:\n",
    "        print (\"Medium Premium is charged to the client\")\n",
    "if age >= 60:\n",
    "    print (\"High Premium is charged to the client\")"
   ]
  },
  {
   "cell_type": "code",
   "execution_count": 13,
   "id": "00fb22da-4764-405d-8a8a-94f56f80771d",
   "metadata": {},
   "outputs": [
    {
     "name": "stdin",
     "output_type": "stream",
     "text": [
      "Is the student logged in? Yes/No: yes\n",
      "Is Payment Completed? Yes/No: yes\n"
     ]
    },
    {
     "name": "stdout",
     "output_type": "stream",
     "text": [
      "You are allowed to sit in the exam\n"
     ]
    },
    {
     "name": "stdin",
     "output_type": "stream",
     "text": [
      "Is the student cheating? Yes/No no\n"
     ]
    }
   ],
   "source": [
    "isLoggedin = input(\"Is the student logged in? Yes/No:\")\n",
    "if isLoggedin == \"Yes\" or isLoggedin == \"yes\":\n",
    "    isPaymentCompleted = input(\"Is Payment Completed? Yes/No:\")\n",
    "    if isPaymentCompleted == \"Yes\" or isPaymentCompleted == \"yes\":\n",
    "        print(\"You are allowed to sit in the exam\")\n",
    "    else:\n",
    "        print(\"You are not allowed to sit in the exam your payment is due\")\n",
    "else:\n",
    "    print(\"You are not logged in\")\n",
    "isCheating = input(\"Is the student cheating? Yes/No\")\n",
    "if isCheating == \"Yes\" or isCheating == \"yes\":\n",
    "    print(\"The student account is blocked\")"
   ]
  },
  {
   "cell_type": "code",
   "execution_count": 18,
   "id": "a61bdbe2-8edd-472b-9435-c8f58657ab23",
   "metadata": {},
   "outputs": [
    {
     "name": "stdin",
     "output_type": "stream",
     "text": [
      "Is the room luxury? Yes/No: yes\n",
      "Enter the number of booked nights: 8\n"
     ]
    },
    {
     "name": "stdout",
     "output_type": "stream",
     "text": [
      "Your total bill of  8  nights stay is  68000.0\n"
     ]
    }
   ],
   "source": [
    "roomType = input(\"Is the room luxury? Yes/No:\")\n",
    "bill = 0\n",
    "discount = 0\n",
    "if roomType == \"Yes\" or roomType == \"yes\":\n",
    "    bill = 10000\n",
    "else:\n",
    "    roomType = input(\"Is the room deluxe? Yes/No:\")\n",
    "    if roomType == \"Yes\" or roomType == \"yes\":\n",
    "        bill = 6000\n",
    "    else:\n",
    "        roomType = input(\"Is the room standerd? Yes/No:\")\n",
    "        if roomType == \"Yes\" or roomType == \"yes\":\n",
    "            bill = 3000\n",
    "numberOfBookedNight = int(input(\"Enter the number of booked nights:\"))\n",
    "if numberOfBookedNight > 5:\n",
    "    bill = numberOfBookedNight * bill\n",
    "    discount = bill * 0.15\n",
    "    bill = bill - discount\n",
    "else :\n",
    "    bill = numberOfBookedNight * bill\n",
    "print(\"Your total bill of \",numberOfBookedNight,\" nights stay is \",bill) "
   ]
  },
  {
   "cell_type": "code",
   "execution_count": 31,
   "id": "174c7cae-3eca-4a82-b2bc-f2df0ef8b47c",
   "metadata": {},
   "outputs": [
    {
     "name": "stdin",
     "output_type": "stream",
     "text": [
      "Is anyone in home: Yes/No: yes\n",
      "Is the time between 6 pm and 6 am? Yes/No: yes\n"
     ]
    },
    {
     "name": "stdout",
     "output_type": "stream",
     "text": [
      "The lights are switched on\n"
     ]
    },
    {
     "name": "stdin",
     "output_type": "stream",
     "text": [
      "Is the temperature above 30? Yes/No: yes\n"
     ]
    },
    {
     "name": "stdout",
     "output_type": "stream",
     "text": [
      "The fan and Ac is turned on\n"
     ]
    }
   ],
   "source": [
    "isAnyoneHome = input(\"Is anyone in home: Yes/No:\")\n",
    "if  isAnyoneHome != \"yes\":\n",
    "    print(\"All Appliances are turend Off\")\n",
    "else:\n",
    "    time = input(\"Is the time between 6 pm and 6 am? Yes/No:\")\n",
    "    if time == \"Yes\" or time == \"yes\":\n",
    "        print(\"The lights are switched on\")\n",
    "        temperature = input(\"Is the temperature above 30? Yes/No:\")\n",
    "        if temperature == \"Yes\" or temperature == \"yes\":\n",
    "            print(\"The fan and Ac is turned on\")\n",
    "    else: \n",
    "        print(\"Everything is set to normal\")"
   ]
  },
  {
   "cell_type": "code",
   "execution_count": null,
   "id": "8775fbe3-3a32-4fbc-b243-7c8a1518151f",
   "metadata": {},
   "outputs": [],
   "source": []
  }
 ],
 "metadata": {
  "kernelspec": {
   "display_name": "Python 3 (ipykernel)",
   "language": "python",
   "name": "python3"
  },
  "language_info": {
   "codemirror_mode": {
    "name": "ipython",
    "version": 3
   },
   "file_extension": ".py",
   "mimetype": "text/x-python",
   "name": "python",
   "nbconvert_exporter": "python",
   "pygments_lexer": "ipython3",
   "version": "3.13.5"
  }
 },
 "nbformat": 4,
 "nbformat_minor": 5
}
