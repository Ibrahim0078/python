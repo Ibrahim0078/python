{
 "cells": [
  {
   "cell_type": "code",
   "execution_count": 1,
   "id": "1cb585b7-7e9c-40bb-b8b8-1d1ab43c2cea",
   "metadata": {},
   "outputs": [
    {
     "name": "stdout",
     "output_type": "stream",
     "text": [
      "🐾 Welcome to the Virtual Pet Game! 🐾\n"
     ]
    },
    {
     "name": "stdin",
     "output_type": "stream",
     "text": [
      "Choose a pet (dog/cat/rabbit):  dog\n",
      "Enter your pet's name:  tom\n"
     ]
    },
    {
     "name": "stdout",
     "output_type": "stream",
     "text": [
      "\n",
      "What would you like to do?\n",
      "1. Feed Pet\n",
      "2. Play with Pet\n",
      "3. Let Pet Sleep\n",
      "4. Show Pet Status\n",
      "5. Make Pet Sound\n",
      "6. Exit\n"
     ]
    },
    {
     "name": "stdin",
     "output_type": "stream",
     "text": [
      "Enter your choice (1–6):  4\n"
     ]
    },
    {
     "name": "stdout",
     "output_type": "stream",
     "text": [
      "\n",
      "--- tom's Status ---\n",
      "Hunger: 50\n",
      "Happiness: 50\n",
      "Energy: 50\n",
      "Health: 100\n",
      "\n",
      "What would you like to do?\n",
      "1. Feed Pet\n",
      "2. Play with Pet\n",
      "3. Let Pet Sleep\n",
      "4. Show Pet Status\n",
      "5. Make Pet Sound\n",
      "6. Exit\n"
     ]
    },
    {
     "name": "stdin",
     "output_type": "stream",
     "text": [
      "Enter your choice (1–6):  2\n"
     ]
    },
    {
     "name": "stdout",
     "output_type": "stream",
     "text": [
      "tom played fetch 🐶\n",
      "\n",
      "What would you like to do?\n",
      "1. Feed Pet\n",
      "2. Play with Pet\n",
      "3. Let Pet Sleep\n",
      "4. Show Pet Status\n",
      "5. Make Pet Sound\n",
      "6. Exit\n"
     ]
    },
    {
     "name": "stdin",
     "output_type": "stream",
     "text": [
      "Enter your choice (1–6):  4\n"
     ]
    },
    {
     "name": "stdout",
     "output_type": "stream",
     "text": [
      "\n",
      "--- tom's Status ---\n",
      "Hunger: 50\n",
      "Happiness: 70\n",
      "Energy: 35\n",
      "Health: 100\n",
      "\n",
      "What would you like to do?\n",
      "1. Feed Pet\n",
      "2. Play with Pet\n",
      "3. Let Pet Sleep\n",
      "4. Show Pet Status\n",
      "5. Make Pet Sound\n",
      "6. Exit\n"
     ]
    },
    {
     "name": "stdin",
     "output_type": "stream",
     "text": [
      "Enter your choice (1–6):  6\n"
     ]
    },
    {
     "name": "stdout",
     "output_type": "stream",
     "text": [
      "Thanks for playing! 👋\n"
     ]
    }
   ],
   "source": [
    "# -------------------------\n",
    "# Base Class (Parent)\n",
    "# -------------------------\n",
    "class Pet:\n",
    "    def __init__(self, name):\n",
    "        # Attributes\n",
    "        self.name = name\n",
    "        self.hunger = 50\n",
    "        self.happiness = 50\n",
    "        self.energy = 50\n",
    "        self.health = 100\n",
    "\n",
    "    def eat(self):\n",
    "        print(f\"{self.name} is eating.\")\n",
    "\n",
    "    def play(self):\n",
    "        print(f\"{self.name} is playing.\")\n",
    "\n",
    "    def sleep(self):\n",
    "        print(f\"{self.name} is sleeping.\")\n",
    "\n",
    "    def make_sound(self):\n",
    "        print(f\"{self.name} makes a sound.\")\n",
    "\n",
    "    # Common methods\n",
    "    def show_status(self):\n",
    "        print(f\"\\n--- {self.name}'s Status ---\")\n",
    "        print(f\"Hunger: {self.hunger}\")\n",
    "        print(f\"Happiness: {self.happiness}\")\n",
    "        print(f\"Energy: {self.energy}\")\n",
    "        print(f\"Health: {self.health}\")\n",
    "\n",
    "    def check_health(self):\n",
    "        if self.hunger > 80 or self.energy < 20:\n",
    "            self.health -= 10\n",
    "\n",
    "\n",
    "# -------------------------\n",
    "# Subclasses (Inheritance + Polymorphism)\n",
    "# -------------------------\n",
    "\n",
    "class Dog(Pet):\n",
    "    def eat(self):\n",
    "        self.hunger -= 20\n",
    "        self.happiness += 10\n",
    "        print(f\"{self.name} enjoyed eating 🦴\")\n",
    "\n",
    "    def play(self):\n",
    "        self.happiness += 20\n",
    "        self.energy -= 15\n",
    "        print(f\"{self.name} played fetch 🐶\")\n",
    "\n",
    "    def sleep(self):\n",
    "        self.energy += 30\n",
    "        self.hunger += 10\n",
    "        print(f\"{self.name} is sleeping peacefully 😴\")\n",
    "\n",
    "    def make_sound(self):\n",
    "        print(\"Woof! Woof! 🐕\")\n",
    "\n",
    "\n",
    "class Cat(Pet):\n",
    "    def eat(self):\n",
    "        self.hunger -= 15\n",
    "        self.happiness += 5\n",
    "        print(f\"{self.name} ate some fish 🐟\")\n",
    "\n",
    "    def play(self):\n",
    "        self.happiness += 15\n",
    "        self.energy -= 10\n",
    "        print(f\"{self.name} chased a laser pointer 🐱\")\n",
    "\n",
    "    def sleep(self):\n",
    "        self.energy += 25\n",
    "        self.hunger += 5\n",
    "        print(f\"{self.name} curled up and slept 💤\")\n",
    "\n",
    "    def make_sound(self):\n",
    "        print(\"Meow! 🐾\")\n",
    "\n",
    "\n",
    "class Rabbit(Pet):\n",
    "    def eat(self):\n",
    "        self.hunger -= 10\n",
    "        self.happiness += 5\n",
    "        print(f\"{self.name} munched on carrots 🥕\")\n",
    "\n",
    "    def play(self):\n",
    "        self.happiness += 10\n",
    "        self.energy -= 5\n",
    "        print(f\"{self.name} hopped around happily 🐇\")\n",
    "\n",
    "    def sleep(self):\n",
    "        self.energy += 20\n",
    "        self.hunger += 5\n",
    "        print(f\"{self.name} is sleeping in its burrow 🏡\")\n",
    "\n",
    "    def make_sound(self):\n",
    "        print(\"Squeak! 🐰\")\n",
    "\n",
    "\n",
    "# -------------------------\n",
    "# Main Game Loop\n",
    "# -------------------------\n",
    "\n",
    "print(\"🐾 Welcome to the Virtual Pet Game! 🐾\")\n",
    "pet_type = input(\"Choose a pet (dog/cat/rabbit): \").lower()\n",
    "pet_name = input(\"Enter your pet's name: \")\n",
    "\n",
    "# Object creation (Polymorphism in action)\n",
    "if pet_type == \"dog\":\n",
    "    pet = Dog(pet_name)\n",
    "elif pet_type == \"cat\":\n",
    "    pet = Cat(pet_name)\n",
    "elif pet_type == \"rabbit\":\n",
    "    pet = Rabbit(pet_name)\n",
    "else:\n",
    "    print(\"Invalid choice, defaulting to Dog.\")\n",
    "    pet = Dog(pet_name)\n",
    "\n",
    "while True:\n",
    "    if pet.health <= 0:\n",
    "        print(f\"\\n💔 Oh no! {pet.name} has died. Game over.\")\n",
    "        break\n",
    "\n",
    "    print(\"\\nWhat would you like to do?\")\n",
    "    print(\"1. Feed Pet\")\n",
    "    print(\"2. Play with Pet\")\n",
    "    print(\"3. Let Pet Sleep\")\n",
    "    print(\"4. Show Pet Status\")\n",
    "    print(\"5. Make Pet Sound\")\n",
    "    print(\"6. Exit\")\n",
    "\n",
    "    try:\n",
    "        choice = int(input(\"Enter your choice (1–6): \"))\n",
    "    except ValueError:\n",
    "        print(\"❌ Invalid input! Please enter a number (1–6).\")\n",
    "        continue\n",
    "\n",
    "    if choice == 1:\n",
    "        pet.eat()\n",
    "    elif choice == 2:\n",
    "        pet.play()\n",
    "    elif choice == 3:\n",
    "        pet.sleep()\n",
    "    elif choice == 4:\n",
    "        pet.show_status()\n",
    "    elif choice == 5:\n",
    "        pet.make_sound()\n",
    "    elif choice == 6:\n",
    "        print(\"Thanks for playing! 👋\")\n",
    "        break\n",
    "    else:\n",
    "        print(\"Invalid choice, try again!\")\n",
    "\n",
    "    pet.check_health()\n",
    "\n"
   ]
  },
  {
   "cell_type": "code",
   "execution_count": null,
   "id": "7c09da71-db50-4a52-9606-e8c980d49110",
   "metadata": {},
   "outputs": [],
   "source": []
  }
 ],
 "metadata": {
  "kernelspec": {
   "display_name": "Python 3 (ipykernel)",
   "language": "python",
   "name": "python3"
  },
  "language_info": {
   "codemirror_mode": {
    "name": "ipython",
    "version": 3
   },
   "file_extension": ".py",
   "mimetype": "text/x-python",
   "name": "python",
   "nbconvert_exporter": "python",
   "pygments_lexer": "ipython3",
   "version": "3.13.5"
  }
 },
 "nbformat": 4,
 "nbformat_minor": 5
}
