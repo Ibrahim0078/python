{
 "cells": [
  {
   "cell_type": "code",
   "execution_count": 7,
   "id": "0f0a326d-8267-40ad-9d54-e1cedbdab999",
   "metadata": {},
   "outputs": [
    {
     "name": "stdin",
     "output_type": "stream",
     "text": [
      "Enter the number of units consumed this month: 600\n"
     ]
    },
    {
     "name": "stdout",
     "output_type": "stream",
     "text": [
      "Total bill is: 16200\n"
     ]
    }
   ],
   "source": [
    "unit = int(input(\"Enter the number of units consumed this month:\"))\n",
    "bill = 1\n",
    "totalBill = 1\n",
    "tex = 1\n",
    "if unit <= 200:\n",
    "    totalBill = 200\n",
    "elif unit <= 300:\n",
    "    bill = 30\n",
    "    totalBill = 200 + (unit - 200) * bill\n",
    "elif unit <= 500:\n",
    "    bill = 50\n",
    "    totalBill = 200 + 200 * 30 + (unit - 400) * bill\n",
    "elif unit <= 700:\n",
    "    bill = 70\n",
    "    totalBill = 200 + 200 * 30 + 200 * 50 + (unit - 600) * bill\n",
    "elif unit <= 900:\n",
    "    bill = 90\n",
    "    totalBill = 200 + 200 * 30 + 200 * 50 + 200 * 70 + (unit - 800) * bill\n",
    "elif unit > 1000:\n",
    "    bill = 100\n",
    "    tex = bill * 0.15\n",
    "    totalBill = 200 + 200 * 30 + 200 * 50 + 200 * 70 + 200 * 90 + (unit - 900) * bill + tex\n",
    "else:\n",
    "    bill = 110\n",
    "    tex = bill * 0.20\n",
    "    totalBill = 200 + 200 * 30 + 200 * 50 + 200 * 70 + 200 * 90 + 200 * 100 + (unit - 1000) * bill + tex\n",
    "print (\"Total bill is:\", totalBill)"
   ]
  },
  {
   "cell_type": "code",
   "execution_count": 11,
   "id": "e2ee3c79-c900-4394-8656-0cd2f71ca7dc",
   "metadata": {},
   "outputs": [
    {
     "name": "stdin",
     "output_type": "stream",
     "text": [
      "Enter a value: 5\n"
     ]
    },
    {
     "name": "stdout",
     "output_type": "stream",
     "text": [
      "You Entered: 5\n"
     ]
    },
    {
     "name": "stdin",
     "output_type": "stream",
     "text": [
      "Enter a value: 1\n"
     ]
    },
    {
     "name": "stdout",
     "output_type": "stream",
     "text": [
      "You Entered: 1\n"
     ]
    },
    {
     "name": "stdin",
     "output_type": "stream",
     "text": [
      "Enter a value: -1\n"
     ]
    },
    {
     "name": "stdout",
     "output_type": "stream",
     "text": [
      "You Entered: -1\n"
     ]
    }
   ],
   "source": [
    "num = int(input(\"Enter a value:\"))\n",
    "print (\"You Entered:\", num)\n",
    "while num != -1:\n",
    "    num = int(input(\"Enter a value:\"))\n",
    "    print (\"You Entered:\", num)"
   ]
  },
  {
   "cell_type": "code",
   "execution_count": 2,
   "id": "b9eab392-044b-41c7-aea8-f5cff3647cce",
   "metadata": {},
   "outputs": [
    {
     "name": "stdout",
     "output_type": "stream",
     "text": [
      "3\n",
      "6\n",
      "9\n"
     ]
    }
   ],
   "source": [
    "i = 1\n",
    "while i<=10:\n",
    "    if i%3 == 0 and i%5 == 0:\n",
    "        print(i)\n",
    "    if i%3 == 0:\n",
    "        print(i)\n",
    "    i += 1 "
   ]
  },
  {
   "cell_type": "code",
   "execution_count": 10,
   "id": "5284a40f-8063-4b14-bc4b-d94cbe8a1d99",
   "metadata": {},
   "outputs": [
    {
     "name": "stdout",
     "output_type": "stream",
     "text": [
      "3\n",
      "6\n",
      "9\n"
     ]
    }
   ],
   "source": [
    "for i in range (1,11):\n",
    "    if i%3 == 0 and i%5 == 0:\n",
    "        print(i)\n",
    "    if i%3 == 0:\n",
    "        print(i)"
   ]
  },
  {
   "cell_type": "code",
   "execution_count": 4,
   "id": "fd7f0dab-a7e8-43c1-8e71-ef22fdeb7a71",
   "metadata": {},
   "outputs": [
    {
     "name": "stdin",
     "output_type": "stream",
     "text": [
      "Enter the number for which you want the table of: 2\n"
     ]
    },
    {
     "name": "stdout",
     "output_type": "stream",
     "text": [
      "This is a table of:  2\n",
      "2 * 1 = 2\n",
      "2 * 2 = 4\n",
      "2 * 3 = 6\n",
      "2 * 4 = 8\n",
      "2 * 5 = 10\n",
      "2 * 6 = 12\n",
      "2 * 7 = 14\n",
      "2 * 8 = 16\n",
      "2 * 9 = 18\n",
      "2 * 10 = 20\n"
     ]
    }
   ],
   "source": [
    "i = 1 \n",
    "num = int(input(\"Enter the number for which you want the table of:\"))\n",
    "print (\"This is a table of: \",num)\n",
    "while i <= 10:\n",
    "    result = num*i\n",
    "    print (num,\"*\",i,\"=\",result)\n",
    "    i+=1"
   ]
  },
  {
   "cell_type": "code",
   "execution_count": 8,
   "id": "769831ba-9626-4a71-9abd-a197e79507d5",
   "metadata": {},
   "outputs": [
    {
     "name": "stdin",
     "output_type": "stream",
     "text": [
      "Enter the number for which you want the table of: 2\n"
     ]
    },
    {
     "name": "stdout",
     "output_type": "stream",
     "text": [
      "This is a table of:  2\n",
      "2 * 1 = 2\n",
      "2 * 2 = 4\n",
      "2 * 3 = 6\n",
      "2 * 4 = 8\n",
      "2 * 5 = 10\n",
      "2 * 6 = 12\n",
      "2 * 7 = 14\n",
      "2 * 8 = 16\n",
      "2 * 9 = 18\n",
      "2 * 10 = 20\n"
     ]
    }
   ],
   "source": [
    "num = int(input(\"Enter the number for which you want the table of:\"))\n",
    "print (\"This is a table of: \",num)\n",
    "for i in range (1,11):\n",
    "    result = num*i\n",
    "    print (num,\"*\",i,\"=\",result)"
   ]
  },
  {
   "cell_type": "code",
   "execution_count": 5,
   "id": "fe2b9bcd-ab62-4885-b9c2-5414d86c4d6d",
   "metadata": {},
   "outputs": [
    {
     "name": "stdin",
     "output_type": "stream",
     "text": [
      "Enter the number for which you want the factorial of: 5\n"
     ]
    },
    {
     "name": "stdout",
     "output_type": "stream",
     "text": [
      "The factorial of  5  is  120\n"
     ]
    }
   ],
   "source": [
    "num = int(input(\"Enter the number for which you want the factorial of:\"))\n",
    "result = 1\n",
    "orignalNum = num\n",
    "while num >= 2:\n",
    "    result *= num\n",
    "    num -= 1\n",
    "print (\"The factorial of \",orignalNum,\" is \",result)"
   ]
  },
  {
   "cell_type": "code",
   "execution_count": 20,
   "id": "7bff6f7c-74c2-429e-8eb0-eee2ba759de3",
   "metadata": {},
   "outputs": [
    {
     "name": "stdin",
     "output_type": "stream",
     "text": [
      "Enter the number for which you want the factorial of: 5\n"
     ]
    },
    {
     "name": "stdout",
     "output_type": "stream",
     "text": [
      "The factorial of  5  is  120\n"
     ]
    }
   ],
   "source": [
    "num = int(input(\"Enter the number for which you want the factorial of:\"))\n",
    "result = 1\n",
    "orignalNum = num\n",
    "for i in range (num, 1, -1):\n",
    "    result *= i\n",
    "print (\"The factorial of \",orignalNum,\" is \",result)"
   ]
  },
  {
   "cell_type": "code",
   "execution_count": null,
   "id": "5aed11a4-76a3-452a-bdc4-2c9872a765da",
   "metadata": {},
   "outputs": [],
   "source": []
  }
 ],
 "metadata": {
  "kernelspec": {
   "display_name": "Python 3 (ipykernel)",
   "language": "python",
   "name": "python3"
  },
  "language_info": {
   "codemirror_mode": {
    "name": "ipython",
    "version": 3
   },
   "file_extension": ".py",
   "mimetype": "text/x-python",
   "name": "python",
   "nbconvert_exporter": "python",
   "pygments_lexer": "ipython3",
   "version": "3.13.5"
  }
 },
 "nbformat": 4,
 "nbformat_minor": 5
}
