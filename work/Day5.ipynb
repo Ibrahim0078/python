{
 "cells": [
  {
   "cell_type": "code",
   "execution_count": 46,
   "id": "19d4996c-2c2e-467c-9217-1a0fe882710e",
   "metadata": {},
   "outputs": [
    {
     "name": "stdin",
     "output_type": "stream",
     "text": [
      "Enter a number that you want to convert it to an integer: 54\n"
     ]
    },
    {
     "name": "stdout",
     "output_type": "stream",
     "text": [
      "Your number is converted into integer: 54\n",
      "The program is executed\n"
     ]
    }
   ],
   "source": [
    "intoInt = input(\"Enter a number that you want to convert it to an integer:\")\n",
    "try:\n",
    "    Int_intoInt = int(intoInt)\n",
    "    print(\"Your number is converted into integer:\", intoInt)\n",
    "except:\n",
    "    print(\"Sorry we can not convert alphabets and special characters into Integer\")\n",
    "finally:\n",
    "    print(\"The program is executed\")"
   ]
  },
  {
   "cell_type": "code",
   "execution_count": 41,
   "id": "af9a56e0-ed5b-49de-953a-6e1d2c06c8b2",
   "metadata": {},
   "outputs": [
    {
     "name": "stdin",
     "output_type": "stream",
     "text": [
      "Enter the index number: 0\n"
     ]
    },
    {
     "name": "stdout",
     "output_type": "stream",
     "text": [
      "apple\n",
      "I hope you found what you were lookinh for\n"
     ]
    }
   ],
   "source": [
    "fruits = [\"apple\",\"banana\",\"mango\",\"kiwi\"]\n",
    "index = int(input(\"Enter the index number:\"))\n",
    "try:\n",
    "    print(fruits[index])\n",
    "except:\n",
    "    print(\"Sorry the index that you are trying to access does not have anything there\")\n",
    "finally:\n",
    "    print(\"I hope you found what you were lookinh for\")"
   ]
  },
  {
   "cell_type": "code",
   "execution_count": 17,
   "id": "88a3b92f-9c90-4c91-999c-0b32184c4921",
   "metadata": {},
   "outputs": [
    {
     "name": "stdin",
     "output_type": "stream",
     "text": [
      "Enter a positive number: -9\n"
     ]
    },
    {
     "name": "stdout",
     "output_type": "stream",
     "text": [
      "The number can not be negative\n"
     ]
    }
   ],
   "source": [
    "number = int(input(\"Enter a positive number:\"))\n",
    "try:\n",
    "    if number < 0:\n",
    "        raise Exception(\"The number can not be negative\")\n",
    "    print(number)\n",
    "except Exception as e:\n",
    "    print(e)"
   ]
  },
  {
   "cell_type": "code",
   "execution_count": 19,
   "id": "9b335bd5-2141-4130-ba60-50ba7ddbeeef",
   "metadata": {},
   "outputs": [
    {
     "name": "stdin",
     "output_type": "stream",
     "text": [
      "Enter a number less then 100: 99\n"
     ]
    },
    {
     "name": "stdout",
     "output_type": "stream",
     "text": [
      "99\n"
     ]
    }
   ],
   "source": [
    "number = int(input(\"Enter a number less then 100:\"))\n",
    "try:\n",
    "    if number > 100:\n",
    "        raise Exception(\"The number can not be greater then 100\")\n",
    "    print(number)\n",
    "except Exception as e:\n",
    "    print(e)"
   ]
  },
  {
   "cell_type": "code",
   "execution_count": 36,
   "id": "a77ad258-f7b7-4886-a886-23ba7f58429c",
   "metadata": {},
   "outputs": [
    {
     "name": "stdin",
     "output_type": "stream",
     "text": [
      "Enter a number you want to divide by 50: 25\n"
     ]
    },
    {
     "name": "stdout",
     "output_type": "stream",
     "text": [
      "2.0\n",
      "program completed\n"
     ]
    }
   ],
   "source": [
    "number = int(input(\"Enter a number you want to divide by 50:\"))\n",
    "result = 0\n",
    "try: \n",
    "    if number == 0:\n",
    "        Exception(\"The number can not be 0\")\n",
    "    result = 50/number\n",
    "except Exception as e:\n",
    "    print(e)\n",
    "else:\n",
    "    print(result)\n",
    "finally:\n",
    "    print(\"program completed\")"
   ]
  },
  {
   "cell_type": "code",
   "execution_count": 26,
   "id": "e00e01d9-50b1-4973-8f94-4fe381065b48",
   "metadata": {},
   "outputs": [
    {
     "name": "stdout",
     "output_type": "stream",
     "text": [
      "student name is Ali Khan\n",
      "father name is Ahmed Khan\n",
      "roll number is 101\n",
      "marks are 92\n",
      "Address is Lahore, Pakistan\n",
      "Phone Number is 03001234567\n",
      "Email is alikhan@gmail.com\n",
      "The student Ali Khan has passed\n",
      "The student Ali Khan is eligible for scholership\n",
      "---- Updating Ali's Contact ----\n",
      "Ali Khan's contact info is:\n",
      "Address is Lahore, Pakistan\n",
      "Phone Number is 03009998888\n",
      "Email is alikhan@gmail.com\n",
      "\n",
      "==========================\n",
      "\n",
      "student name is Sara Malik\n",
      "father name is Rashid Malik\n",
      "roll number is 102\n",
      "The student Sara Malik has passed\n",
      "The student Sara Malik is not eligible for scholership\n",
      "\n",
      "==========================\n",
      "\n",
      "student name is Usman Ahmed\n",
      "father name is Khalid Ahmed\n",
      "roll number is 103\n",
      "marks are 38\n",
      "Address is Islamabad, Pakistan\n",
      "Phone Number is 03334567891\n",
      "Email is usman.ahmed@hotmail.com\n",
      "The student Usman Ahmed has failed\n",
      "The student Usman Ahmed is not eligible for scholership\n",
      "---- Updating Usman's Marks ----\n",
      "The student Usman Ahmed has passed\n"
     ]
    }
   ],
   "source": [
    "class student:\n",
    "    def __init__ (self, name, fatherName, roll_number, marks, address, contactNumber, email):\n",
    "        self.name = name\n",
    "        self.fatherName = fatherName\n",
    "        self.rollNumber = roll_number\n",
    "        self.marks = marks\n",
    "        self.address = address\n",
    "        self.contactNumber = contactNumber\n",
    "        self.email = email\n",
    "    def updateAddress(self, address):\n",
    "        self.address = address\n",
    "    def updateContactNumber(self, contactNumber):\n",
    "        self.contactNumber = contactNumber\n",
    "    def updateEmail(self, email):\n",
    "        self.email = email\n",
    "    def updateMarks(self, marks):\n",
    "        self.marks = marks\n",
    "    def displayFullInfo(self):\n",
    "        print(f\"student name is {self.name}\\nfather name is {self.fatherName}\\nroll number is {self.rollNumber}\\nmarks are {self.marks}\\nAddress is {self.address}\\nPhone Number is {self.contactNumber}\\nEmail is {self.email}\")\n",
    "    def displayShortInfo(self):\n",
    "        print(f\"student name is {self.name}\\nfather name is {self.fatherName}\\nroll number is {self.rollNumber}\")\n",
    "    def contactInfo(self):\n",
    "        print(f\"{self.name}'s contact info is:\\nAddress is {self.address}\\nPhone Number is {self.contactNumber}\\nEmail is {self.email}\")\n",
    "    def hasPassed(self):\n",
    "        if self.marks <= 40:\n",
    "            print(f\"The student {self.name} has failed\")\n",
    "        else:\n",
    "            print(f\"The student {self.name} has passed\")\n",
    "    def isScholarshipEligible(self):\n",
    "        if self.marks <= 85:\n",
    "            print(f\"The student {self.name} is not eligible for scholership\")\n",
    "        else:\n",
    "            print(f\"The student {self.name} is eligible for scholership\")\n",
    "s1 = student(\"Ali Khan\", \"Ahmed Khan\", 101, 92, \"Lahore, Pakistan\", \"03001234567\", \"alikhan@gmail.com\")\n",
    "s2 = student(\"Sara Malik\", \"Rashid Malik\", 102, 76, \"Karachi, Pakistan\", \"03119876543\", \"saramalik@yahoo.com\")\n",
    "s3 = student(\"Usman Ahmed\", \"Khalid Ahmed\", 103, 38, \"Islamabad, Pakistan\", \"03334567891\", \"usman.ahmed@hotmail.com\")\n",
    "\n",
    "# Function Calls\n",
    "s1.displayFullInfo()\n",
    "s1.hasPassed()\n",
    "s1.isScholarshipEligible()\n",
    "print(\"---- Updating Ali's Contact ----\")\n",
    "s1.updateContactNumber(\"03009998888\")\n",
    "s1.contactInfo()\n",
    "\n",
    "print(\"\\n==========================\\n\")\n",
    "\n",
    "s2.displayShortInfo()\n",
    "s2.hasPassed()\n",
    "s2.isScholarshipEligible()\n",
    "\n",
    "print(\"\\n==========================\\n\")\n",
    "\n",
    "s3.displayFullInfo()\n",
    "s3.hasPassed()\n",
    "s3.isScholarshipEligible()\n",
    "print(\"---- Updating Usman's Marks ----\")\n",
    "s3.updateMarks(55)\n",
    "s3.hasPassed()"
   ]
  },
  {
   "cell_type": "code",
   "execution_count": null,
   "id": "f8154e97-60a2-40e2-82e2-26affc6c4e62",
   "metadata": {},
   "outputs": [],
   "source": []
  }
 ],
 "metadata": {
  "kernelspec": {
   "display_name": "Python 3 (ipykernel)",
   "language": "python",
   "name": "python3"
  },
  "language_info": {
   "codemirror_mode": {
    "name": "ipython",
    "version": 3
   },
   "file_extension": ".py",
   "mimetype": "text/x-python",
   "name": "python",
   "nbconvert_exporter": "python",
   "pygments_lexer": "ipython3",
   "version": "3.13.5"
  }
 },
 "nbformat": 4,
 "nbformat_minor": 5
}
