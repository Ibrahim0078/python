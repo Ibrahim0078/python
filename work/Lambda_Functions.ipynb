{
 "cells": [
  {
   "cell_type": "code",
   "execution_count": 1,
   "metadata": {
    "colab": {
     "base_uri": "https://localhost:8080/"
    },
    "id": "-vJHkxxlZoEs",
    "outputId": "2f463b57-1bf2-4017-b760-ce1cb0e9f8e6"
   },
   "outputs": [
    {
     "name": "stdout",
     "output_type": "stream",
     "text": [
      "Enter a number: 3\n",
      "Result: 3.3333333333333335\n",
      "Execution finished.\n"
     ]
    }
   ],
   "source": [
    "try:\n",
    "    x = int(input(\"Enter a number: \"))\n",
    "    result = 10 / x\n",
    "    print(\"Result:\", result)\n",
    "except ZeroDivisionError:\n",
    "    print(\"Error: Cannot divide by zero!\")\n",
    "except ValueError:\n",
    "    print(\"Error: Please enter a valid number.\")\n",
    "finally:\n",
    "    print(\"Execution finished.\")"
   ]
  },
  {
   "cell_type": "code",
   "execution_count": null,
   "metadata": {
    "id": "YA1hxuaiZoBU"
   },
   "outputs": [],
   "source": []
  },
  {
   "cell_type": "code",
   "execution_count": null,
   "metadata": {
    "id": "J8Le2WlMZn-e"
   },
   "outputs": [],
   "source": []
  },
  {
   "cell_type": "code",
   "execution_count": null,
   "metadata": {
    "id": "KT6phyr1Zn7Y"
   },
   "outputs": [],
   "source": []
  },
  {
   "cell_type": "code",
   "execution_count": null,
   "metadata": {
    "id": "Rzu1lJEmZn4i"
   },
   "outputs": [],
   "source": []
  },
  {
   "cell_type": "code",
   "execution_count": null,
   "metadata": {
    "id": "S90nJtQfZn1o"
   },
   "outputs": [],
   "source": []
  },
  {
   "cell_type": "code",
   "execution_count": null,
   "metadata": {
    "id": "Gfot11rgZnyz"
   },
   "outputs": [],
   "source": []
  },
  {
   "cell_type": "code",
   "execution_count": null,
   "metadata": {
    "id": "xSEBSQ1pZnv3"
   },
   "outputs": [],
   "source": []
  },
  {
   "cell_type": "code",
   "execution_count": null,
   "metadata": {
    "id": "oysqn9f7ZntD"
   },
   "outputs": [],
   "source": []
  },
  {
   "cell_type": "code",
   "execution_count": null,
   "metadata": {
    "id": "PO8RBb3rZnpw"
   },
   "outputs": [],
   "source": []
  },
  {
   "cell_type": "code",
   "execution_count": null,
   "metadata": {
    "id": "hV4NScUNZnm5"
   },
   "outputs": [],
   "source": []
  },
  {
   "cell_type": "code",
   "execution_count": null,
   "metadata": {
    "id": "2HWRlfxMZnj4"
   },
   "outputs": [],
   "source": []
  },
  {
   "cell_type": "code",
   "execution_count": null,
   "metadata": {
    "id": "igdVHahAZngz"
   },
   "outputs": [],
   "source": []
  },
  {
   "cell_type": "code",
   "execution_count": null,
   "metadata": {
    "id": "1-ECOQAdZndH"
   },
   "outputs": [],
   "source": []
  },
  {
   "cell_type": "code",
   "execution_count": null,
   "metadata": {
    "id": "tniVo72pbEki"
   },
   "outputs": [],
   "source": [
    "class Student:\n",
    "    def __init__(self, name, age):\n",
    "        self.name = name   # self.name belongs to the object\n",
    "        self.age = age     # self.age belongs to the object\n",
    "\n",
    "    def introduce(self):\n",
    "        print(f\"My name is {self.name} and I am {self.age} years old.\")\n",
    "\n",
    "# Create two objects\n",
    "s1 = Student(\"Ali\", 20)\n",
    "s2 = Student(\"Sara\", 22)\n",
    "\n",
    "s1.introduce()   # My name is Ali and I am 20 years old.\n",
    "s2.introduce()   # My name is Sara and I am 22 years old.\n"
   ]
  },
  {
   "cell_type": "code",
   "execution_count": null,
   "metadata": {
    "colab": {
     "base_uri": "https://localhost:8080/"
    },
    "id": "fxBKuvoM9N_a",
    "outputId": "cd367287-99e5-4cb3-fdb2-760aeab5237f"
   },
   "outputs": [
    {
     "name": "stdout",
     "output_type": "stream",
     "text": [
      "Hello 👋\n"
     ]
    }
   ],
   "source": [
    "class Greeting:\n",
    "    def say_hello(self):\n",
    "        return \"Hello 👋\"\n",
    "\n",
    "obj = Greeting()\n",
    "print(obj.say_hello())  # Hello 👋\n"
   ]
  },
  {
   "cell_type": "code",
   "execution_count": null,
   "metadata": {
    "colab": {
     "base_uri": "https://localhost:8080/"
    },
    "id": "Kb_SF-hVSqeN",
    "outputId": "e1a3e70c-41ef-4881-a998-c787d0283c29"
   },
   "outputs": [
    {
     "name": "stdout",
     "output_type": "stream",
     "text": [
      "Hello Okasha 👋\n"
     ]
    }
   ],
   "source": [
    "class Greeting:\n",
    "    name=\"\"\n",
    "    def __init__(self, name):\n",
    "        self.name = name\n",
    "\n",
    "    def say_hello(self):\n",
    "        return f\"Hello {self.name} 👋\"\n",
    "\n",
    "obj = Greeting(\"Okasha\")\n",
    "print(obj.say_hello())  # Hello Okasha 👋\n"
   ]
  },
  {
   "cell_type": "code",
   "execution_count": null,
   "metadata": {
    "colab": {
     "base_uri": "https://localhost:8080/"
    },
    "id": "eLAIuyioSsO6",
    "outputId": "d749387e-740e-47e2-bd27-c941bac0a8da"
   },
   "outputs": [
    {
     "name": "stdout",
     "output_type": "stream",
     "text": [
      "Toyota Corolla is driving 🚗\n",
      "Honda Civic is driving 🚗\n"
     ]
    }
   ],
   "source": [
    "# Defining a simple class\n",
    "class Car:\n",
    "    def __init__(self, brand, model):  # Constructor\n",
    "        self.brand = brand\n",
    "        self.model = model\n",
    "\n",
    "    def drive(self):\n",
    "        return f\"{self.brand} {self.model} is driving 🚗\"\n",
    "\n",
    "# Creating objects\n",
    "car1 = Car(\"Toyota\", \"Corolla\")\n",
    "car2 = Car(\"Honda\", \"Civic\")\n",
    "\n",
    "print(car1.drive())  # Toyota Corolla is driving 🚗\n",
    "print(car2.drive())  # Honda Civic is driving 🚗\n"
   ]
  },
  {
   "cell_type": "code",
   "execution_count": null,
   "metadata": {
    "colab": {
     "base_uri": "https://localhost:8080/"
    },
    "id": "5C4hAup4Sv3n",
    "outputId": "7554db1a-064f-4d1c-80f7-a6ba00292ced"
   },
   "outputs": [
    {
     "name": "stdout",
     "output_type": "stream",
     "text": [
      "Buddy\n",
      "Buddy says Woof! 🐶\n"
     ]
    }
   ],
   "source": [
    "class Dog:\n",
    "    def __init__(self, name, age):\n",
    "        self.name = name   # Attribute\n",
    "        self.age = age     # Attribute\n",
    "\n",
    "    def bark(self):        # Method\n",
    "        return f\"{self.name} says Woof! 🐶\"\n",
    "\n",
    "dog1 = Dog(\"Buddy\", 3)\n",
    "print(dog1.name)      # Buddy\n",
    "print(dog1.bark())    # Buddy says Woof! 🐶\n"
   ]
  },
  {
   "cell_type": "code",
   "execution_count": null,
   "metadata": {
    "colab": {
     "base_uri": "https://localhost:8080/"
    },
    "id": "f7ANvm6fSy7F",
    "outputId": "9e069aa3-8f4b-49f8-c4b2-30c683cc6867"
   },
   "outputs": [
    {
     "name": "stdout",
     "output_type": "stream",
     "text": [
      "1500\n"
     ]
    }
   ],
   "source": [
    "# Encapsulation → Data Hiding\n",
    "class BankAccount:\n",
    "    def __init__(self, balance):\n",
    "        self.__balance = balance   # Private attribute\n",
    "\n",
    "    def deposit(self, amount):\n",
    "        self.__balance += amount\n",
    "\n",
    "    def get_balance(self):\n",
    "        return self.__balance\n",
    "\n",
    "account = BankAccount(1000)\n",
    "account.deposit(500)\n",
    "print(account.get_balance())  # 1500\n",
    "# print(account.__balance) ❌ Error: private\n"
   ]
  },
  {
   "cell_type": "code",
   "execution_count": null,
   "metadata": {
    "colab": {
     "base_uri": "https://localhost:8080/"
    },
    "id": "yv5XARj1S4EL",
    "outputId": "2a4ff5ad-55dd-4c72-bc7f-324c76491607"
   },
   "outputs": [
    {
     "name": "stdout",
     "output_type": "stream",
     "text": [
      "Bike is moving 🚴\n"
     ]
    }
   ],
   "source": [
    "# Abstraction → Hide Complexity\n",
    "from abc import ABC, abstractmethod\n",
    "\n",
    "class Vehicle(ABC):  # Abstract class\n",
    "    @abstractmethod\n",
    "    def go(self):\n",
    "        pass\n",
    "\n",
    "class Bike(Vehicle):\n",
    "    def go(self):\n",
    "        return \"Bike is moving 🚴\"\n",
    "\n",
    "class Car(Vehicle):\n",
    "    def go(self):\n",
    "        return \"Car is moving 🚗\"\n",
    "\n",
    "# Can't create Vehicle directly (abstract)\n",
    "bike = Bike()\n",
    "print(bike.go())\n"
   ]
  },
  {
   "cell_type": "code",
   "execution_count": null,
   "metadata": {
    "colab": {
     "base_uri": "https://localhost:8080/"
    },
    "id": "45qSF_70S6ht",
    "outputId": "5a859a00-c18a-4b18-d495-db1969bd6558"
   },
   "outputs": [
    {
     "name": "stdout",
     "output_type": "stream",
     "text": [
      "Kitty says Meow 😺\n",
      "Buddy says Woof 🐶\n"
     ]
    }
   ],
   "source": [
    "# Inheritance → Reuse Code\n",
    "class Animal:\n",
    "    def __init__(self, name):\n",
    "        self.name = name\n",
    "\n",
    "    def speak(self):\n",
    "        return \"...\"\n",
    "\n",
    "class Cat(Animal):\n",
    "    def speak(self):\n",
    "        return f\"{self.name} says Meow 😺\"\n",
    "\n",
    "class Dog(Animal):\n",
    "    def speak(self):\n",
    "        return f\"{self.name} says Woof 🐶\"\n",
    "\n",
    "cat = Cat(\"Kitty\")\n",
    "dog = Dog(\"Buddy\")\n",
    "\n",
    "print(cat.speak())  # Kitty says Meow 😺\n",
    "print(dog.speak())  # Buddy says Woof 🐶\n"
   ]
  },
  {
   "cell_type": "code",
   "execution_count": null,
   "metadata": {
    "id": "S-ZMbqxMS_TU"
   },
   "outputs": [],
   "source": []
  }
 ],
 "metadata": {
  "colab": {
   "provenance": []
  },
  "kernelspec": {
   "display_name": "Python 3 (ipykernel)",
   "language": "python",
   "name": "python3"
  },
  "language_info": {
   "codemirror_mode": {
    "name": "ipython",
    "version": 3
   },
   "file_extension": ".py",
   "mimetype": "text/x-python",
   "name": "python",
   "nbconvert_exporter": "python",
   "pygments_lexer": "ipython3",
   "version": "3.13.5"
  }
 },
 "nbformat": 4,
 "nbformat_minor": 4
}
