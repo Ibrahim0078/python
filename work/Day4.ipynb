{
 "cells": [
  {
   "cell_type": "code",
   "execution_count": 1,
   "id": "649558a5-1b8e-4104-8c59-177c299af0f3",
   "metadata": {},
   "outputs": [
    {
     "name": "stdout",
     "output_type": "stream",
     "text": [
      "2\n"
     ]
    }
   ],
   "source": [
    "print (2)"
   ]
  },
  {
   "cell_type": "code",
   "execution_count": 29,
   "id": "9845c2c1-d71f-487b-a98b-6443c06bb58f",
   "metadata": {},
   "outputs": [
    {
     "name": "stdout",
     "output_type": "stream",
     "text": [
      "16\n"
     ]
    }
   ],
   "source": [
    "square = lambda x : x**2\n",
    "print(square(4))"
   ]
  },
  {
   "cell_type": "code",
   "execution_count": 11,
   "id": "1f9fa60e-b892-4592-8834-4b8325e3cddc",
   "metadata": {},
   "outputs": [
    {
     "name": "stdout",
     "output_type": "stream",
     "text": [
      "odd\n"
     ]
    }
   ],
   "source": [
    "even = lambda x : \"even\" if x%2 == 0 else \"odd\"\n",
    "print(even(5))"
   ]
  },
  {
   "cell_type": "code",
   "execution_count": 12,
   "id": "edfa917e-16db-47fb-8e8f-471814731796",
   "metadata": {},
   "outputs": [
    {
     "name": "stdout",
     "output_type": "stream",
     "text": [
      "5\n"
     ]
    }
   ],
   "source": [
    "max = lambda x, y : x if x>y else y\n",
    "print(max(4, 5))"
   ]
  },
  {
   "cell_type": "code",
   "execution_count": 31,
   "id": "61c59f69-1ed2-406a-9c2c-39b7d0dd87e2",
   "metadata": {},
   "outputs": [
    {
     "name": "stdout",
     "output_type": "stream",
     "text": [
      "4\n"
     ]
    }
   ],
   "source": [
    "min = lambda x, y : x if x<y else y\n",
    "print(min(4, 5))"
   ]
  },
  {
   "cell_type": "code",
   "execution_count": 13,
   "id": "f8b751ea-652d-4aa6-9737-359962a4b5e0",
   "metadata": {},
   "outputs": [
    {
     "name": "stdout",
     "output_type": "stream",
     "text": [
      "15\n"
     ]
    }
   ],
   "source": [
    "addTen = lambda x : x+10\n",
    "print(addTen(5))"
   ]
  },
  {
   "cell_type": "code",
   "execution_count": 26,
   "id": "b51cb9c4-c88d-497c-9e90-0d9b348111fc",
   "metadata": {},
   "outputs": [
    {
     "name": "stdout",
     "output_type": "stream",
     "text": [
      "H\n"
     ]
    }
   ],
   "source": [
    "firstCharcter = lambda x : x[0]\n",
    "print(firstCharcter(\"Hello\"))"
   ]
  },
  {
   "cell_type": "code",
   "execution_count": 42,
   "id": "dbd8bd46-48df-40f0-b6ff-4c1639ca6e23",
   "metadata": {},
   "outputs": [
    {
     "name": "stdout",
     "output_type": "stream",
     "text": [
      "o\n"
     ]
    }
   ],
   "source": [
    "lastCharcter = lambda x : x[-1:]\n",
    "print(lastCharcter(\"Hello\"))"
   ]
  },
  {
   "cell_type": "code",
   "execution_count": 35,
   "id": "74d0a91f-bb69-49b8-aee2-3d1076ce32b8",
   "metadata": {},
   "outputs": [
    {
     "name": "stdout",
     "output_type": "stream",
     "text": [
      "7\n"
     ]
    }
   ],
   "source": [
    "x = \"Ibrahim\"\n",
    "print(len(x))"
   ]
  },
  {
   "cell_type": "code",
   "execution_count": 30,
   "id": "bbda8352-fe4e-488d-b7a1-22b10a7308b6",
   "metadata": {},
   "outputs": [
    {
     "name": "stdout",
     "output_type": "stream",
     "text": [
      "15\n"
     ]
    }
   ],
   "source": [
    "lenOfString = lambda x : len(x)\n",
    "print(lenOfString(\"Hi How Are You?\"))"
   ]
  },
  {
   "cell_type": "code",
   "execution_count": 34,
   "id": "7ca4186a-1243-42a1-a71f-37a654fa3eee",
   "metadata": {},
   "outputs": [
    {
     "name": "stdout",
     "output_type": "stream",
     "text": [
      "Vowel\n"
     ]
    }
   ],
   "source": [
    "isVowel = lambda x : \"Vowel\" if x == \"a\" or x == \"e\" or x == \"i\" or x == \"o\" or x == \"u\" or x == \"A\" or x == \"E\" or x == \"I\" or x == \"O\" or x == \"U\" else \"consonent\"\n",
    "print(isVowel(\"a\"))"
   ]
  },
  {
   "cell_type": "code",
   "execution_count": 47,
   "id": "ccf3de66-0a47-467c-a7a2-1e7201aba5ce",
   "metadata": {},
   "outputs": [
    {
     "name": "stdout",
     "output_type": "stream",
     "text": [
      "?uoY erA woH iH\n"
     ]
    }
   ],
   "source": [
    "reverseString = lambda x : x[::-1]\n",
    "print(reverseString(\"Hi How Are You?\"))"
   ]
  },
  {
   "cell_type": "code",
   "execution_count": null,
   "id": "99a09fe8-9771-4481-801a-b8e92fc75e8d",
   "metadata": {},
   "outputs": [],
   "source": [
    "\"\"\"\n",
    "Write a lambda function to get the first 3 characters of a string.\n",
    "\n",
    "Write a lambda function to get the last 3 characters of a string.\n",
    "\n",
    "Write a lambda function to reverse a string using slicing.\n",
    "\n",
    "Write a lambda function to get every second character of a string.\n",
    "\n",
    "Write a lambda function to remove the first and last character of a string.\n",
    "\n",
    "Write a lambda function to get the first half of a string.\n",
    "\n",
    "Write a lambda function to get the second half of a string.\n",
    "\"\"\""
   ]
  },
  {
   "cell_type": "code",
   "execution_count": 48,
   "id": "6224197e-9daa-4aad-aeab-61ce451c1d6d",
   "metadata": {},
   "outputs": [
    {
     "name": "stdout",
     "output_type": "stream",
     "text": [
      "Hel\n"
     ]
    }
   ],
   "source": [
    "firstThreeCharcter = lambda x : x[:3]\n",
    "print(firstThreeCharcter(\"Hello\"))"
   ]
  },
  {
   "cell_type": "code",
   "execution_count": 49,
   "id": "f7b48085-286e-45c9-8283-1cdbb6262ce4",
   "metadata": {},
   "outputs": [
    {
     "name": "stdout",
     "output_type": "stream",
     "text": [
      "llo\n"
     ]
    }
   ],
   "source": [
    "lastThreeCharcter = lambda x : x[-3:]\n",
    "print(lastThreeCharcter(\"Hello\"))"
   ]
  },
  {
   "cell_type": "code",
   "execution_count": 51,
   "id": "174b08be-cf72-4170-a018-8600bdd399f2",
   "metadata": {},
   "outputs": [
    {
     "name": "stdout",
     "output_type": "stream",
     "text": [
      "Hlo\n"
     ]
    }
   ],
   "source": [
    "everySecondChar = lambda x : x[::2]\n",
    "print(everySecondChar(\"Hello\"))"
   ]
  },
  {
   "cell_type": "code",
   "execution_count": 59,
   "id": "138bd42a-1796-474b-b9c5-abc7a35eca44",
   "metadata": {},
   "outputs": [
    {
     "name": "stdout",
     "output_type": "stream",
     "text": [
      "ello How Are Yo\n"
     ]
    }
   ],
   "source": [
    "removeFirstLast = lambda x : x[1:len(x)-1]\n",
    "print(removeFirstLast(\"Hello How Are You\"))"
   ]
  },
  {
   "cell_type": "code",
   "execution_count": 62,
   "id": "ed8c9e76-1e76-44ea-8ba5-221545e71e0b",
   "metadata": {},
   "outputs": [
    {
     "name": "stdout",
     "output_type": "stream",
     "text": [
      "Hello Ho\n"
     ]
    }
   ],
   "source": [
    "firstHalf = lambda x : x[:int(len(x)/2)]\n",
    "print(firstHalf(\"Hello How Are You\"))"
   ]
  },
  {
   "cell_type": "code",
   "execution_count": 63,
   "id": "7e362dcd-5ff9-4646-a917-2799aa27919a",
   "metadata": {},
   "outputs": [
    {
     "name": "stdout",
     "output_type": "stream",
     "text": [
      "w Are You\n"
     ]
    }
   ],
   "source": [
    "secondHalf = lambda x : x[int(len(x)/2):]\n",
    "print(secondHalf(\"Hello How Are You\"))"
   ]
  },
  {
   "cell_type": "code",
   "execution_count": null,
   "id": "d81290b5-fa9e-40d5-8037-32ca9dc8415b",
   "metadata": {},
   "outputs": [],
   "source": [
    "\"\"\"\n",
    "split() Questions\n",
    "\n",
    "Write a lambda function to split a sentence into a list of words.\n",
    "\n",
    "Write a lambda function to get the first word of a sentence using split().\n",
    "\n",
    "Write a lambda function to get the last word of a sentence using split().\n",
    "\n",
    "Write a lambda function to count the number of words in a sentence using split().\n",
    "\n",
    "Write a lambda function to split a string by commas and return the list.\n",
    "\n",
    "strip() Questions\n",
    "\n",
    "Write a lambda function to remove leading and trailing spaces from a string using strip().\n",
    "\n",
    "Write a lambda function to remove only leading spaces from a string using lstrip().\n",
    "\n",
    "Write a lambda function to remove only trailing spaces from a string using rstrip().\n",
    "\n",
    "Write a lambda function to remove leading and trailing commas from a string.\n",
    "\n",
    "Write a lambda function to remove * characters from both ends of a string.\n",
    "\"\"\""
   ]
  },
  {
   "cell_type": "code",
   "execution_count": 66,
   "id": "0f2e2fca-d90b-4ed5-9879-c927dcfb7aee",
   "metadata": {},
   "outputs": [
    {
     "name": "stdout",
     "output_type": "stream",
     "text": [
      "['I', 'Love', 'Pakistan']\n"
     ]
    }
   ],
   "source": [
    "listOfWords = lambda x : x.split()\n",
    "print(listOfWords(\"I Love Pakistan\"))"
   ]
  },
  {
   "cell_type": "code",
   "execution_count": 68,
   "id": "4ae1eef9-bf29-41f1-b0bd-e6e7c8928c41",
   "metadata": {},
   "outputs": [
    {
     "name": "stdout",
     "output_type": "stream",
     "text": [
      "I\n"
     ]
    }
   ],
   "source": [
    "firstWord = lambda x : x.split()[0]\n",
    "print(firstWord(\"I Love Pakistan\"))"
   ]
  },
  {
   "cell_type": "code",
   "execution_count": 69,
   "id": "3375cacb-5763-44fe-a6b0-26a45aad514d",
   "metadata": {},
   "outputs": [
    {
     "name": "stdout",
     "output_type": "stream",
     "text": [
      "Pakistan\n"
     ]
    }
   ],
   "source": [
    "lastWord = lambda x : x.split()[-1]\n",
    "print(lastWord(\"I Love Pakistan\"))"
   ]
  },
  {
   "cell_type": "code",
   "execution_count": 70,
   "id": "451b9850-872e-4c3a-bc31-baf87319544e",
   "metadata": {},
   "outputs": [
    {
     "name": "stdout",
     "output_type": "stream",
     "text": [
      "3\n"
     ]
    }
   ],
   "source": [
    "countWords = lambda x : len(x.split())\n",
    "print(countWords(\"I Love Pakistan\"))"
   ]
  },
  {
   "cell_type": "code",
   "execution_count": 78,
   "id": "8764e1b9-268e-4edd-8134-3cf3176307e3",
   "metadata": {},
   "outputs": [
    {
     "name": "stdout",
     "output_type": "stream",
     "text": [
      "['I', 'Love', 'Pakistan']\n"
     ]
    }
   ],
   "source": [
    "splitByComma = lambda x : x.split(\",\")\n",
    "print(splitByComma(\"I,Love,Pakistan\"))"
   ]
  },
  {
   "cell_type": "code",
   "execution_count": 89,
   "id": "8651f2cf-065a-4a39-9f63-ebd8ecaa16f2",
   "metadata": {},
   "outputs": [
    {
     "name": "stdout",
     "output_type": "stream",
     "text": [
      "How Are You?\n"
     ]
    }
   ],
   "source": [
    "removeSpaces = lambda x : x.strip()\n",
    "print(removeSpaces(\"       How Are You?\"))"
   ]
  },
  {
   "cell_type": "code",
   "execution_count": 91,
   "id": "a53d0cd8-a5bc-45c0-ab3b-86eb67a3fab6",
   "metadata": {},
   "outputs": [
    {
     "name": "stdout",
     "output_type": "stream",
     "text": [
      "How Are You?******\n"
     ]
    }
   ],
   "source": [
    "removeLeadingSpaces = lambda x : x.lstrip(\"*\")\n",
    "print(removeLeadingSpaces(\"******How Are You?******\"))"
   ]
  },
  {
   "cell_type": "code",
   "execution_count": 92,
   "id": "230d1508-9843-4354-a5d7-4942e347253d",
   "metadata": {},
   "outputs": [
    {
     "name": "stdout",
     "output_type": "stream",
     "text": [
      "******How Are You?\n"
     ]
    }
   ],
   "source": [
    "removeTrailingSpaces = lambda x : x.rstrip(\"*\")\n",
    "print(removeTrailingSpaces(\"******How Are You?******\"))"
   ]
  },
  {
   "cell_type": "code",
   "execution_count": 93,
   "id": "4f158d21-ea85-43ed-9463-9b31e6988c51",
   "metadata": {},
   "outputs": [
    {
     "name": "stdout",
     "output_type": "stream",
     "text": [
      "How Are You?\n"
     ]
    }
   ],
   "source": [
    "removeCommas = lambda x : x.strip(\",\")\n",
    "print(removeCommas(\",,,,,,,,How Are You?,,,,,,,,,\"))"
   ]
  },
  {
   "cell_type": "code",
   "execution_count": 95,
   "id": "8d037675-76d2-420a-99cf-be6256882177",
   "metadata": {},
   "outputs": [
    {
     "name": "stdout",
     "output_type": "stream",
     "text": [
      "How Are You?\n"
     ]
    }
   ],
   "source": [
    "removeAstarik = lambda x : x.strip(\"*\")\n",
    "print(removeAstarik(\"*********How Are You?*******\"))"
   ]
  },
  {
   "cell_type": "code",
   "execution_count": null,
   "id": "3fd33de3-56e3-45cc-ae5a-31d176f9858a",
   "metadata": {},
   "outputs": [],
   "source": []
  }
 ],
 "metadata": {
  "kernelspec": {
   "display_name": "Python 3 (ipykernel)",
   "language": "python",
   "name": "python3"
  },
  "language_info": {
   "codemirror_mode": {
    "name": "ipython",
    "version": 3
   },
   "file_extension": ".py",
   "mimetype": "text/x-python",
   "name": "python",
   "nbconvert_exporter": "python",
   "pygments_lexer": "ipython3",
   "version": "3.13.5"
  }
 },
 "nbformat": 4,
 "nbformat_minor": 5
}
