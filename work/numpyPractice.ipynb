{
 "cells": [
  {
   "cell_type": "code",
   "execution_count": 47,
   "id": "f5329731-7c6d-47b7-b76d-7e1149018f47",
   "metadata": {},
   "outputs": [
    {
     "name": "stdout",
     "output_type": "stream",
     "text": [
      "2.1.3\n",
      "[1 2 3 4]\n",
      "*********************\n",
      "[[1 2 3 4]\n",
      " [5 6 7 8]]\n",
      "*********************\n",
      "[[[1 2 3 4]\n",
      "  [5 6 7 8]]\n",
      "\n",
      " [[1 2 3 4]\n",
      "  [5 6 7 8]]]\n",
      "*********************\n",
      "<class 'numpy.ndarray'>\n",
      "*********************\n",
      "1\n",
      "2\n",
      "3\n"
     ]
    }
   ],
   "source": [
    "import numpy as np\n",
    "\n",
    "print(np.__version__)\n",
    "oneDArr = np.array([1,2,3,4])\n",
    "twoDArr = np.array([[1,2,3,4],[5,6,7,8]])\n",
    "threeDArr = np.array([[[1, 2, 3, 4], [5, 6, 7, 8]], [[1, 2, 3, 4], [5, 6, 7, 8]]])\n",
    "print(oneDArr)\n",
    "print(\"*********************\")\n",
    "print(twoDArr)\n",
    "print(\"*********************\")\n",
    "print(threeDArr)\n",
    "print(\"*********************\")\n",
    "print(type(oneDArr))\n",
    "print(\"*********************\")\n",
    "print(oneDArr.ndim)\n",
    "print(twoDArr.ndim)\n",
    "print(threeDArr.ndim)"
   ]
  },
  {
   "cell_type": "code",
   "execution_count": 48,
   "id": "5319075a-c672-43ba-bb1d-37074e0ffab3",
   "metadata": {},
   "outputs": [
    {
     "name": "stdout",
     "output_type": "stream",
     "text": [
      "[1 1 1 1]\n",
      "*********************\n",
      "[[1 1]\n",
      " [1 1]]\n"
     ]
    }
   ],
   "source": [
    "one = np.ones(4, dtype = int)\n",
    "onesMatrix = np.ones((2,2), dtype = int)\n",
    "print(one)\n",
    "print(\"*********************\")\n",
    "print(onesMatrix)"
   ]
  },
  {
   "cell_type": "code",
   "execution_count": 49,
   "id": "bd0f0c11-f93b-4adc-847e-a5078e609499",
   "metadata": {},
   "outputs": [
    {
     "name": "stdout",
     "output_type": "stream",
     "text": [
      "[[1 2]\n",
      " [3 4]]\n",
      "*********************\n",
      "[[1 2 3 4]\n",
      " [5 6 7 8]\n",
      " [1 2 3 4]\n",
      " [5 6 7 8]]\n"
     ]
    }
   ],
   "source": [
    "reArrangedOneDArr = oneDArr.reshape(2,2)\n",
    "reArrangedThreeDArr = threeDArr.reshape(4,4)\n",
    "print(reArrangedOneDArr)\n",
    "print(\"*********************\")\n",
    "print(reArrangedThreeDArr)"
   ]
  },
  {
   "cell_type": "code",
   "execution_count": 50,
   "id": "14f9c012-0573-489a-804a-9d8bcd7f9e57",
   "metadata": {},
   "outputs": [
    {
     "name": "stdout",
     "output_type": "stream",
     "text": [
      "[1 2 3 4 5 6 7 8]\n",
      "*********************\n",
      "[1 2 3 4 5 6 7 8 1 2 3 4 5 6 7 8]\n"
     ]
    }
   ],
   "source": [
    "raveledArr = twoDArr.ravel()\n",
    "flattenedArr = threeDArr.flatten()\n",
    "print(raveledArr)\n",
    "print(\"*********************\")\n",
    "print(flattenedArr)"
   ]
  },
  {
   "cell_type": "code",
   "execution_count": 51,
   "id": "2c0541b3-ca04-4056-bebf-f2e37267a0e9",
   "metadata": {},
   "outputs": [
    {
     "name": "stdout",
     "output_type": "stream",
     "text": [
      "[[1 5]\n",
      " [2 6]\n",
      " [3 7]\n",
      " [4 8]]\n"
     ]
    }
   ],
   "source": [
    "transposeOfTwoDArr = twoDArr.transpose()\n",
    "print(transposeOfTwoDArr)"
   ]
  },
  {
   "cell_type": "code",
   "execution_count": 62,
   "id": "e5df35ab-3655-420f-98f0-83579d1bd2ed",
   "metadata": {},
   "outputs": [
    {
     "name": "stdout",
     "output_type": "stream",
     "text": [
      "[ 1.          1.18367347  1.36734694  1.55102041  1.73469388  1.91836735\n",
      "  2.10204082  2.28571429  2.46938776  2.65306122  2.83673469  3.02040816\n",
      "  3.20408163  3.3877551   3.57142857  3.75510204  3.93877551  4.12244898\n",
      "  4.30612245  4.48979592  4.67346939  4.85714286  5.04081633  5.2244898\n",
      "  5.40816327  5.59183673  5.7755102   5.95918367  6.14285714  6.32653061\n",
      "  6.51020408  6.69387755  6.87755102  7.06122449  7.24489796  7.42857143\n",
      "  7.6122449   7.79591837  7.97959184  8.16326531  8.34693878  8.53061224\n",
      "  8.71428571  8.89795918  9.08163265  9.26530612  9.44897959  9.63265306\n",
      "  9.81632653 10.        ]\n"
     ]
    }
   ],
   "source": [
    "ls=np.linspace(1,10,50)\n",
    "print(ls)"
   ]
  },
  {
   "cell_type": "code",
   "execution_count": 58,
   "id": "15d588a6-c85d-4c2a-9e42-cfef7ba3731b",
   "metadata": {},
   "outputs": [
    {
     "name": "stdout",
     "output_type": "stream",
     "text": [
      "[ 8 10 12 14 16 18]\n",
      "*********************\n",
      "[-6 -6 -6 -6 -6 -6]\n",
      "*********************\n",
      "[0.14285714 0.25       0.33333333 0.4        0.45454545 0.5       ]\n",
      "*********************\n",
      "[ 7 16 27 40 55 72]\n",
      "*********************\n",
      "217\n",
      "*********************\n",
      "[[-6 12 -6]\n",
      " [-6 12 -6]]\n"
     ]
    }
   ],
   "source": [
    "arrOne = np.array([1, 2, 3, 4, 5, 6])\n",
    "arrTwo = np.array([7, 8, 9, 10, 11, 12])\n",
    "arrOneTwoD = np.array([[1, 2, 3], [4, 5, 6]])\n",
    "arrTwoTwoD = np.array([[7, 8, 9], [10, 11, 12]])\n",
    "addResult = np.add(arrOne, arrTwo)\n",
    "subtractResult = np.subtract(arrOne, arrTwo)\n",
    "divideResult = np.divide(arrOne, arrTwo)\n",
    "multiplyResult = np.multiply(arrOne, arrTwo)\n",
    "dotProductResult = np.dot(arrOne, arrTwo)\n",
    "crossProductResult = np.cross(arrOneTwoD, arrTwoTwoD)\n",
    "print(addResult)\n",
    "print(\"*********************\")\n",
    "print(subtractResult)\n",
    "print(\"*********************\")\n",
    "print(divideResult)\n",
    "print(\"*********************\")\n",
    "print(multiplyResult)\n",
    "print(\"*********************\")\n",
    "print(dotProductResult)\n",
    "print(\"*********************\")\n",
    "print(crossProductResult)"
   ]
  },
  {
   "cell_type": "code",
   "execution_count": 59,
   "id": "396b776b-dc18-487e-8eb1-a81e04cc9b0f",
   "metadata": {},
   "outputs": [
    {
     "data": {
      "text/plain": [
       "array(list(['Dev', 'Valley', 'Software', 'House']), dtype=object)"
      ]
     },
     "execution_count": 59,
     "metadata": {},
     "output_type": "execute_result"
    }
   ],
   "source": [
    "np.char.splitlines(\"Dev\\nValley\\nSoftware\\nHouse\")"
   ]
  },
  {
   "cell_type": "code",
   "execution_count": null,
   "id": "bc5c2278-24c0-40f7-a663-246c3d24b0ea",
   "metadata": {},
   "outputs": [],
   "source": []
  }
 ],
 "metadata": {
  "kernelspec": {
   "display_name": "Python 3 (ipykernel)",
   "language": "python",
   "name": "python3"
  },
  "language_info": {
   "codemirror_mode": {
    "name": "ipython",
    "version": 3
   },
   "file_extension": ".py",
   "mimetype": "text/x-python",
   "name": "python",
   "nbconvert_exporter": "python",
   "pygments_lexer": "ipython3",
   "version": "3.13.5"
  }
 },
 "nbformat": 4,
 "nbformat_minor": 5
}
